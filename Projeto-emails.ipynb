{
  "cells": [
    {
      "cell_type": "markdown",
      "metadata": {
        "id": "view-in-github",
        "colab_type": "text"
      },
      "source": [
        "<a href=\"https://colab.research.google.com/github/diogosec/Statistics-Applied-to-Computing/blob/main/Projeto-emails.ipynb\" target=\"_parent\"><img src=\"https://colab.research.google.com/assets/colab-badge.svg\" alt=\"Open In Colab\"/></a>"
      ]
    },
    {
      "cell_type": "markdown",
      "metadata": {
        "id": "IictVD5sZ679"
      },
      "source": [
        "# Mini Projeto: Análise Exploratória do Email Pessoal\n",
        "\n",
        "*Baseado no código do capítulo 3 do livro \"Hands on Exploratory Data Analysis with Python\", com os códigos disponíveis no [github](https://github.com/PacktPublishing/Hands-on-Exploratory-Data-Analysis-with-Python)*.\n",
        "\n",
        "#### Objetivo: extrair e pre-processar dados do email pessoal do gmail, para responder perguntas sobre os dados obtidos\n",
        "\n",
        "OBS: por questões técnicas não foi possível utilizar o email pessoal, detalhes na resolução da questão 3."
      ]
    },
    {
      "cell_type": "markdown",
      "metadata": {
        "id": "JftlK2d7Z68X"
      },
      "source": [
        "# Diogo da Silva Santos"
      ]
    },
    {
      "cell_type": "markdown",
      "metadata": {
        "id": "iXOMED2AZ68b"
      },
      "source": [
        "## Pré processamento dos dados do Email:"
      ]
    },
    {
      "cell_type": "code",
      "source": [
        "from google.colab import drive\n",
        "drive.mount('/content/drive')"
      ],
      "metadata": {
        "colab": {
          "base_uri": "https://localhost:8080/"
        },
        "id": "Qiltehlvo9km",
        "outputId": "f5cb0129-703a-4887-f7b4-7c52a852bada"
      },
      "execution_count": null,
      "outputs": [
        {
          "output_type": "stream",
          "name": "stdout",
          "text": [
            "Mounted at /content/drive\n"
          ]
        }
      ]
    },
    {
      "cell_type": "code",
      "execution_count": null,
      "metadata": {
        "id": "UrhAE7G2Z68g"
      },
      "outputs": [],
      "source": [
        "import pandas as pd\n",
        "import mailbox"
      ]
    },
    {
      "cell_type": "code",
      "execution_count": null,
      "metadata": {
        "colab": {
          "base_uri": "https://localhost:8080/"
        },
        "id": "9Rw7NAWYZ683",
        "outputId": "b486fe6c-780e-47b4-9dd9-94770aae6e84"
      },
      "outputs": [
        {
          "output_type": "execute_result",
          "data": {
            "text/plain": [
              "<mailbox.mbox at 0x7fbe5eb7db50>"
            ]
          },
          "metadata": {},
          "execution_count": 45
        }
      ],
      "source": [
        "mbox = mailbox.mbox('/content/drive/MyDrive/Takeout/Takeout/E-mail/Todos os e-mails.mbox')\n",
        "mbox"
      ]
    },
    {
      "cell_type": "code",
      "source": [
        "for chaves in mbox[0]: print(chaves)"
      ],
      "metadata": {
        "colab": {
          "base_uri": "https://localhost:8080/"
        },
        "id": "7UTK2Qkhpvdk",
        "outputId": "260ea33b-35b9-4fa9-cb60-9a0ba217c036"
      },
      "execution_count": null,
      "outputs": [
        {
          "output_type": "stream",
          "name": "stdout",
          "text": [
            "X-GM-THRID\n",
            "X-Gmail-Labels\n",
            "Delivered-To\n",
            "Received\n",
            "X-Google-Smtp-Source\n",
            "X-Received\n",
            "ARC-Seal\n",
            "ARC-Message-Signature\n",
            "ARC-Authentication-Results\n",
            "Return-Path\n",
            "Received\n",
            "Received-SPF\n",
            "Authentication-Results\n",
            "X-MSFBL\n",
            "DKIM-Signature\n",
            "Authentication-Results\n",
            "Received\n",
            "Date\n",
            "From\n",
            "To\n",
            "Message-ID\n",
            "Subject\n",
            "Mime-Version\n",
            "Content-Type\n",
            "Content-Transfer-Encoding\n"
          ]
        }
      ]
    },
    {
      "cell_type": "code",
      "execution_count": null,
      "metadata": {
        "id": "EThtnhS3Z69K"
      },
      "outputs": [],
      "source": [
        "import csv\n",
        "\n",
        "with open('emails.csv', 'w') as outputfile:\n",
        "  writer = csv.writer(outputfile)\n",
        "  writer.writerow(['subject','from','date','to',\n",
        "                   'label','thread'])\n",
        "    \n",
        "  for message in mbox:\n",
        "    writer.writerow([message['subject'], message['from'],  \n",
        "                     message['date'], message['to'],  \n",
        "                     message['X-Gmail-Labels'], message['X-GM-THRID']])"
      ]
    },
    {
      "cell_type": "code",
      "execution_count": null,
      "metadata": {
        "id": "YBJJq188Z69S"
      },
      "outputs": [],
      "source": [
        "df = pd.read_csv('emails.csv')"
      ]
    },
    {
      "cell_type": "code",
      "execution_count": null,
      "metadata": {
        "id": "NC-FsVKLZ69W"
      },
      "outputs": [],
      "source": [
        "df['date'] = df['date'].apply(lambda x: pd.to_datetime(x, \n",
        "                                                       errors='coerce', \n",
        "                                                       utc=True))"
      ]
    },
    {
      "cell_type": "code",
      "execution_count": null,
      "metadata": {
        "id": "RniRW6PiZ69Z"
      },
      "outputs": [],
      "source": [
        "import re"
      ]
    },
    {
      "cell_type": "code",
      "execution_count": null,
      "metadata": {
        "id": "GeYvGexvZ69b"
      },
      "outputs": [],
      "source": [
        "def extracao_email(string):\n",
        "  email = re.findall(r'<(.+?)>', string) #aqui está a expressão regular\n",
        "  if not email:\n",
        "    email = list(filter(lambda y: '@' in y, string.split()))\n",
        "  return email[0] if email else np.nan #se tiver email, ok; senão, retorna nan."
      ]
    },
    {
      "cell_type": "code",
      "execution_count": null,
      "metadata": {
        "id": "EU4LZn39Z69d"
      },
      "outputs": [],
      "source": [
        "df['from'] = df['from'].apply(lambda x: extracao_email(x))"
      ]
    },
    {
      "cell_type": "code",
      "execution_count": null,
      "metadata": {
        "id": "5ZZzUTprZ69f"
      },
      "outputs": [],
      "source": [
        "df['label'] = df['from'].apply(lambda x: \n",
        "                               'enviado' if x=='santo.diogo@academico.ifpb.edu.br' else 'inbox')"
      ]
    },
    {
      "cell_type": "code",
      "execution_count": null,
      "metadata": {
        "id": "0jVKgDY6Z69i"
      },
      "outputs": [],
      "source": [
        "import datetime\n",
        "import pytz"
      ]
    },
    {
      "cell_type": "code",
      "execution_count": null,
      "metadata": {
        "id": "pNzBg49bZ69k"
      },
      "outputs": [],
      "source": [
        "def ref_timezone(x): return x.astimezone(pytz.timezone('America/Recife'))"
      ]
    },
    {
      "cell_type": "code",
      "execution_count": null,
      "metadata": {
        "id": "E1gdF_hYZ69m"
      },
      "outputs": [],
      "source": [
        "df.dropna(inplace=True)"
      ]
    },
    {
      "cell_type": "code",
      "execution_count": null,
      "metadata": {
        "id": "Yo9gFjP4Z69n"
      },
      "outputs": [],
      "source": [
        "df['dayofweek'] = df['date'].apply(lambda x: x.day_name())"
      ]
    },
    {
      "cell_type": "code",
      "execution_count": null,
      "metadata": {
        "id": "dPJ90dJ6Z69o"
      },
      "outputs": [],
      "source": [
        "df['dayofweek'] = pd.Categorical(df['dayofweek'], categories=[\n",
        "    'Monday', 'Tuesday', 'Wednesday', 'Thursday', 'Friday',\n",
        "    'Saturday', 'Sunday'], ordered=True)"
      ]
    },
    {
      "cell_type": "code",
      "execution_count": null,
      "metadata": {
        "id": "e8P7D1N1Z69q"
      },
      "outputs": [],
      "source": [
        "df['timeofday'] = df['date'].apply(lambda x: x.hour)"
      ]
    },
    {
      "cell_type": "code",
      "execution_count": null,
      "metadata": {
        "id": "GIlIEXQWZ69s"
      },
      "outputs": [],
      "source": [
        "df['year'] = df['date'].apply(lambda x: x.year)"
      ]
    },
    {
      "cell_type": "code",
      "execution_count": null,
      "metadata": {
        "id": "IAOYP4sSZ69t"
      },
      "outputs": [],
      "source": [
        "df['month'] = df['date'].apply(lambda x: x.month_name())"
      ]
    },
    {
      "cell_type": "code",
      "execution_count": null,
      "metadata": {
        "id": "Zmoo0YFhZ69w"
      },
      "outputs": [],
      "source": [
        "df['month'] = pd.Categorical(df['month'], categories=[\n",
        "    'January', 'February', 'March', 'April', 'May', 'June', 'July',\n",
        "    'September', 'October', 'November', 'December'], ordered=True)"
      ]
    },
    {
      "cell_type": "code",
      "execution_count": null,
      "metadata": {
        "id": "-Wi-puTBZ69y"
      },
      "outputs": [],
      "source": [
        "df['day'] = df['date'].apply(lambda x: x.day)"
      ]
    },
    {
      "cell_type": "code",
      "execution_count": null,
      "metadata": {
        "id": "Fq8V16ouZ690"
      },
      "outputs": [],
      "source": [
        "df['data_contraria'] = df[\"date\"].apply( lambda df : \n",
        "datetime.datetime(year=df.year, month=df.month, day=df.day))\n",
        "df.set_index(df[\"data_contraria\"],inplace=True)"
      ]
    },
    {
      "cell_type": "code",
      "execution_count": null,
      "metadata": {
        "id": "WA0IJRRuZ692"
      },
      "outputs": [],
      "source": [
        "df.to_csv('emails_processados.csv')"
      ]
    },
    {
      "cell_type": "markdown",
      "metadata": {
        "id": "m9Dm1RtoZ694"
      },
      "source": [
        "## 1. Quantos emails foram mandados por semana, por mês e por ano, considerando a janela de tempo dos dados baixados?"
      ]
    },
    {
      "cell_type": "markdown",
      "metadata": {
        "id": "X-Odsb9qZ695"
      },
      "source": [
        "##### Emails enviados por semana:"
      ]
    },
    {
      "cell_type": "markdown",
      "metadata": {
        "id": "vpnwQ6-iZ696"
      },
      "source": [
        "Lista com o número de emails:"
      ]
    },
    {
      "cell_type": "code",
      "execution_count": null,
      "metadata": {
        "scrolled": true,
        "colab": {
          "base_uri": "https://localhost:8080/",
          "height": 1000
        },
        "id": "TbyFv22IZ697",
        "outputId": "d0c4939b-c7d9-423a-fceb-dbc9c4b167c5"
      },
      "outputs": [
        {
          "output_type": "stream",
          "name": "stderr",
          "text": [
            "/usr/local/lib/python3.7/dist-packages/ipykernel_launcher.py:2: FutureWarning: Series.dt.weekofyear and Series.dt.week have been deprecated.  Please use Series.dt.isocalendar().week instead.\n",
            "  \n"
          ]
        },
        {
          "output_type": "execute_result",
          "data": {
            "text/plain": [
              "    Emails por semana\n",
              "1                   7\n",
              "2                   4\n",
              "3                   8\n",
              "4                  35\n",
              "5                  35\n",
              "6                  50\n",
              "7                  33\n",
              "8                  49\n",
              "9                  36\n",
              "10                 46\n",
              "11                 36\n",
              "12                 62\n",
              "13                 31\n",
              "14                 33\n",
              "15                 40\n",
              "16                 38\n",
              "17                 43\n",
              "18                 46\n",
              "19                 54\n",
              "20                 67\n",
              "21                 66\n",
              "22                 41\n",
              "23                 38\n",
              "24                 26\n",
              "25                 29\n",
              "26                 51\n",
              "27                 34\n",
              "28                 41\n",
              "29                 31\n",
              "30                 69\n",
              "35                 33\n",
              "36                 86\n",
              "37                 97\n",
              "38                101\n",
              "39                 88\n",
              "40                 90\n",
              "41                 92\n",
              "42                101\n",
              "43                 97\n",
              "44                112\n",
              "45                116\n",
              "46                 55\n",
              "47                 25\n",
              "48                 32\n",
              "49                 30\n",
              "50                 42\n",
              "51                 17\n",
              "52                  3"
            ],
            "text/html": [
              "\n",
              "  <div id=\"df-fafe3ee4-d601-492c-a316-5847de6b09f8\">\n",
              "    <div class=\"colab-df-container\">\n",
              "      <div>\n",
              "<style scoped>\n",
              "    .dataframe tbody tr th:only-of-type {\n",
              "        vertical-align: middle;\n",
              "    }\n",
              "\n",
              "    .dataframe tbody tr th {\n",
              "        vertical-align: top;\n",
              "    }\n",
              "\n",
              "    .dataframe thead th {\n",
              "        text-align: right;\n",
              "    }\n",
              "</style>\n",
              "<table border=\"1\" class=\"dataframe\">\n",
              "  <thead>\n",
              "    <tr style=\"text-align: right;\">\n",
              "      <th></th>\n",
              "      <th>Emails por semana</th>\n",
              "    </tr>\n",
              "  </thead>\n",
              "  <tbody>\n",
              "    <tr>\n",
              "      <th>1</th>\n",
              "      <td>7</td>\n",
              "    </tr>\n",
              "    <tr>\n",
              "      <th>2</th>\n",
              "      <td>4</td>\n",
              "    </tr>\n",
              "    <tr>\n",
              "      <th>3</th>\n",
              "      <td>8</td>\n",
              "    </tr>\n",
              "    <tr>\n",
              "      <th>4</th>\n",
              "      <td>35</td>\n",
              "    </tr>\n",
              "    <tr>\n",
              "      <th>5</th>\n",
              "      <td>35</td>\n",
              "    </tr>\n",
              "    <tr>\n",
              "      <th>6</th>\n",
              "      <td>50</td>\n",
              "    </tr>\n",
              "    <tr>\n",
              "      <th>7</th>\n",
              "      <td>33</td>\n",
              "    </tr>\n",
              "    <tr>\n",
              "      <th>8</th>\n",
              "      <td>49</td>\n",
              "    </tr>\n",
              "    <tr>\n",
              "      <th>9</th>\n",
              "      <td>36</td>\n",
              "    </tr>\n",
              "    <tr>\n",
              "      <th>10</th>\n",
              "      <td>46</td>\n",
              "    </tr>\n",
              "    <tr>\n",
              "      <th>11</th>\n",
              "      <td>36</td>\n",
              "    </tr>\n",
              "    <tr>\n",
              "      <th>12</th>\n",
              "      <td>62</td>\n",
              "    </tr>\n",
              "    <tr>\n",
              "      <th>13</th>\n",
              "      <td>31</td>\n",
              "    </tr>\n",
              "    <tr>\n",
              "      <th>14</th>\n",
              "      <td>33</td>\n",
              "    </tr>\n",
              "    <tr>\n",
              "      <th>15</th>\n",
              "      <td>40</td>\n",
              "    </tr>\n",
              "    <tr>\n",
              "      <th>16</th>\n",
              "      <td>38</td>\n",
              "    </tr>\n",
              "    <tr>\n",
              "      <th>17</th>\n",
              "      <td>43</td>\n",
              "    </tr>\n",
              "    <tr>\n",
              "      <th>18</th>\n",
              "      <td>46</td>\n",
              "    </tr>\n",
              "    <tr>\n",
              "      <th>19</th>\n",
              "      <td>54</td>\n",
              "    </tr>\n",
              "    <tr>\n",
              "      <th>20</th>\n",
              "      <td>67</td>\n",
              "    </tr>\n",
              "    <tr>\n",
              "      <th>21</th>\n",
              "      <td>66</td>\n",
              "    </tr>\n",
              "    <tr>\n",
              "      <th>22</th>\n",
              "      <td>41</td>\n",
              "    </tr>\n",
              "    <tr>\n",
              "      <th>23</th>\n",
              "      <td>38</td>\n",
              "    </tr>\n",
              "    <tr>\n",
              "      <th>24</th>\n",
              "      <td>26</td>\n",
              "    </tr>\n",
              "    <tr>\n",
              "      <th>25</th>\n",
              "      <td>29</td>\n",
              "    </tr>\n",
              "    <tr>\n",
              "      <th>26</th>\n",
              "      <td>51</td>\n",
              "    </tr>\n",
              "    <tr>\n",
              "      <th>27</th>\n",
              "      <td>34</td>\n",
              "    </tr>\n",
              "    <tr>\n",
              "      <th>28</th>\n",
              "      <td>41</td>\n",
              "    </tr>\n",
              "    <tr>\n",
              "      <th>29</th>\n",
              "      <td>31</td>\n",
              "    </tr>\n",
              "    <tr>\n",
              "      <th>30</th>\n",
              "      <td>69</td>\n",
              "    </tr>\n",
              "    <tr>\n",
              "      <th>35</th>\n",
              "      <td>33</td>\n",
              "    </tr>\n",
              "    <tr>\n",
              "      <th>36</th>\n",
              "      <td>86</td>\n",
              "    </tr>\n",
              "    <tr>\n",
              "      <th>37</th>\n",
              "      <td>97</td>\n",
              "    </tr>\n",
              "    <tr>\n",
              "      <th>38</th>\n",
              "      <td>101</td>\n",
              "    </tr>\n",
              "    <tr>\n",
              "      <th>39</th>\n",
              "      <td>88</td>\n",
              "    </tr>\n",
              "    <tr>\n",
              "      <th>40</th>\n",
              "      <td>90</td>\n",
              "    </tr>\n",
              "    <tr>\n",
              "      <th>41</th>\n",
              "      <td>92</td>\n",
              "    </tr>\n",
              "    <tr>\n",
              "      <th>42</th>\n",
              "      <td>101</td>\n",
              "    </tr>\n",
              "    <tr>\n",
              "      <th>43</th>\n",
              "      <td>97</td>\n",
              "    </tr>\n",
              "    <tr>\n",
              "      <th>44</th>\n",
              "      <td>112</td>\n",
              "    </tr>\n",
              "    <tr>\n",
              "      <th>45</th>\n",
              "      <td>116</td>\n",
              "    </tr>\n",
              "    <tr>\n",
              "      <th>46</th>\n",
              "      <td>55</td>\n",
              "    </tr>\n",
              "    <tr>\n",
              "      <th>47</th>\n",
              "      <td>25</td>\n",
              "    </tr>\n",
              "    <tr>\n",
              "      <th>48</th>\n",
              "      <td>32</td>\n",
              "    </tr>\n",
              "    <tr>\n",
              "      <th>49</th>\n",
              "      <td>30</td>\n",
              "    </tr>\n",
              "    <tr>\n",
              "      <th>50</th>\n",
              "      <td>42</td>\n",
              "    </tr>\n",
              "    <tr>\n",
              "      <th>51</th>\n",
              "      <td>17</td>\n",
              "    </tr>\n",
              "    <tr>\n",
              "      <th>52</th>\n",
              "      <td>3</td>\n",
              "    </tr>\n",
              "  </tbody>\n",
              "</table>\n",
              "</div>\n",
              "      <button class=\"colab-df-convert\" onclick=\"convertToInteractive('df-fafe3ee4-d601-492c-a316-5847de6b09f8')\"\n",
              "              title=\"Convert this dataframe to an interactive table.\"\n",
              "              style=\"display:none;\">\n",
              "        \n",
              "  <svg xmlns=\"http://www.w3.org/2000/svg\" height=\"24px\"viewBox=\"0 0 24 24\"\n",
              "       width=\"24px\">\n",
              "    <path d=\"M0 0h24v24H0V0z\" fill=\"none\"/>\n",
              "    <path d=\"M18.56 5.44l.94 2.06.94-2.06 2.06-.94-2.06-.94-.94-2.06-.94 2.06-2.06.94zm-11 1L8.5 8.5l.94-2.06 2.06-.94-2.06-.94L8.5 2.5l-.94 2.06-2.06.94zm10 10l.94 2.06.94-2.06 2.06-.94-2.06-.94-.94-2.06-.94 2.06-2.06.94z\"/><path d=\"M17.41 7.96l-1.37-1.37c-.4-.4-.92-.59-1.43-.59-.52 0-1.04.2-1.43.59L10.3 9.45l-7.72 7.72c-.78.78-.78 2.05 0 2.83L4 21.41c.39.39.9.59 1.41.59.51 0 1.02-.2 1.41-.59l7.78-7.78 2.81-2.81c.8-.78.8-2.07 0-2.86zM5.41 20L4 18.59l7.72-7.72 1.47 1.35L5.41 20z\"/>\n",
              "  </svg>\n",
              "      </button>\n",
              "      \n",
              "  <style>\n",
              "    .colab-df-container {\n",
              "      display:flex;\n",
              "      flex-wrap:wrap;\n",
              "      gap: 12px;\n",
              "    }\n",
              "\n",
              "    .colab-df-convert {\n",
              "      background-color: #E8F0FE;\n",
              "      border: none;\n",
              "      border-radius: 50%;\n",
              "      cursor: pointer;\n",
              "      display: none;\n",
              "      fill: #1967D2;\n",
              "      height: 32px;\n",
              "      padding: 0 0 0 0;\n",
              "      width: 32px;\n",
              "    }\n",
              "\n",
              "    .colab-df-convert:hover {\n",
              "      background-color: #E2EBFA;\n",
              "      box-shadow: 0px 1px 2px rgba(60, 64, 67, 0.3), 0px 1px 3px 1px rgba(60, 64, 67, 0.15);\n",
              "      fill: #174EA6;\n",
              "    }\n",
              "\n",
              "    [theme=dark] .colab-df-convert {\n",
              "      background-color: #3B4455;\n",
              "      fill: #D2E3FC;\n",
              "    }\n",
              "\n",
              "    [theme=dark] .colab-df-convert:hover {\n",
              "      background-color: #434B5C;\n",
              "      box-shadow: 0px 1px 3px 1px rgba(0, 0, 0, 0.15);\n",
              "      filter: drop-shadow(0px 1px 2px rgba(0, 0, 0, 0.3));\n",
              "      fill: #FFFFFF;\n",
              "    }\n",
              "  </style>\n",
              "\n",
              "      <script>\n",
              "        const buttonEl =\n",
              "          document.querySelector('#df-fafe3ee4-d601-492c-a316-5847de6b09f8 button.colab-df-convert');\n",
              "        buttonEl.style.display =\n",
              "          google.colab.kernel.accessAllowed ? 'block' : 'none';\n",
              "\n",
              "        async function convertToInteractive(key) {\n",
              "          const element = document.querySelector('#df-fafe3ee4-d601-492c-a316-5847de6b09f8');\n",
              "          const dataTable =\n",
              "            await google.colab.kernel.invokeFunction('convertToInteractive',\n",
              "                                                     [key], {});\n",
              "          if (!dataTable) return;\n",
              "\n",
              "          const docLinkHtml = 'Like what you see? Visit the ' +\n",
              "            '<a target=\"_blank\" href=https://colab.research.google.com/notebooks/data_table.ipynb>data table notebook</a>'\n",
              "            + ' to learn more about interactive tables.';\n",
              "          element.innerHTML = '';\n",
              "          dataTable['output_type'] = 'display_data';\n",
              "          await google.colab.output.renderOutput(dataTable, element);\n",
              "          const docLink = document.createElement('div');\n",
              "          docLink.innerHTML = docLinkHtml;\n",
              "          element.appendChild(docLink);\n",
              "        }\n",
              "      </script>\n",
              "    </div>\n",
              "  </div>\n",
              "  "
            ]
          },
          "metadata": {},
          "execution_count": 68
        }
      ],
      "source": [
        "%matplotlib inline\n",
        "df_semana = df['data_contraria'].dt.week.value_counts().sort_index(ascending=True)\n",
        "dados = {'Emails por semana':df_semana}\n",
        "df_semana = pd.DataFrame(dados)\n",
        "df_semana"
      ]
    },
    {
      "cell_type": "markdown",
      "metadata": {
        "id": "OfYrrlmuZ6-F"
      },
      "source": [
        "Gráfico:"
      ]
    },
    {
      "cell_type": "code",
      "execution_count": null,
      "metadata": {
        "colab": {
          "base_uri": "https://localhost:8080/",
          "height": 611
        },
        "id": "TDSM4qKRZ6-G",
        "outputId": "e1a8afd0-655f-41ab-880d-ba5d54628fe0"
      },
      "outputs": [
        {
          "output_type": "execute_result",
          "data": {
            "text/plain": [
              "<matplotlib.axes._subplots.AxesSubplot at 0x7fbe5ee59290>"
            ]
          },
          "metadata": {},
          "execution_count": 69
        },
        {
          "output_type": "display_data",
          "data": {
            "text/plain": [
              "<Figure size 720x720 with 1 Axes>"
            ],
            "image/png": "[encoded data removed]"
          },
          "metadata": {
            "needs_background": "light"
          }
        }
      ],
      "source": [
        "df_semana.plot.bar(figsize= (10,10))"
      ]
    },
    {
      "cell_type": "markdown",
      "metadata": {
        "id": "SP7dMiNJZ6-I"
      },
      "source": [
        "##### Emails enviados por mês:"
      ]
    },
    {
      "cell_type": "markdown",
      "metadata": {
        "id": "5ruFXPHRZ6-J"
      },
      "source": [
        "Lista com o número de emails:"
      ]
    },
    {
      "cell_type": "code",
      "execution_count": null,
      "metadata": {
        "id": "ZZ64NOKIZ6-K"
      },
      "outputs": [],
      "source": [
        "df_mes = df['data_contraria'].dt.month.value_counts().sort_index(ascending=True)\n",
        "dados = {'Emails por mês':df_mes}\n",
        "df_mes = pd.DataFrame(dados)"
      ]
    },
    {
      "cell_type": "markdown",
      "metadata": {
        "id": "yHglsTRkZ6-M"
      },
      "source": [
        "Gráfico:"
      ]
    },
    {
      "cell_type": "code",
      "execution_count": null,
      "metadata": {
        "colab": {
          "base_uri": "https://localhost:8080/",
          "height": 611
        },
        "id": "0vbc1K25Z6-M",
        "outputId": "17eaeef6-86d8-47af-89d3-ce5e6e795a37"
      },
      "outputs": [
        {
          "output_type": "execute_result",
          "data": {
            "text/plain": [
              "<matplotlib.axes._subplots.AxesSubplot at 0x7fbe5e150150>"
            ]
          },
          "metadata": {},
          "execution_count": 72
        },
        {
          "output_type": "display_data",
          "data": {
            "text/plain": [
              "<Figure size 720x720 with 1 Axes>"
            ],
            "image/png": "[encoded data removed]"
          },
          "metadata": {
            "needs_background": "light"
          }
        }
      ],
      "source": [
        "df_mes.plot.bar(figsize= (10,10))"
      ]
    },
    {
      "cell_type": "markdown",
      "metadata": {
        "id": "2cjup_dSZ6-P"
      },
      "source": [
        "##### Emails enviados por ano:"
      ]
    },
    {
      "cell_type": "markdown",
      "metadata": {
        "id": "ZrHyDLsNZ6-Q"
      },
      "source": [
        "Lista com o número de emails:"
      ]
    },
    {
      "cell_type": "code",
      "execution_count": null,
      "metadata": {
        "id": "O5Sf0mLnZ6-T"
      },
      "outputs": [],
      "source": [
        "df_ano = df['data_contraria'].dt.year.value_counts().sort_index(ascending=True)\n",
        "dados = {'Emails por ano':df_ano}\n",
        "df_ano = pd.DataFrame(dados)"
      ]
    },
    {
      "cell_type": "markdown",
      "metadata": {
        "id": "b3IoLuhaZ6-V"
      },
      "source": [
        "Gráfico:"
      ]
    },
    {
      "cell_type": "code",
      "execution_count": null,
      "metadata": {
        "colab": {
          "base_uri": "https://localhost:8080/",
          "height": 624
        },
        "id": "k0zUIUg6Z6-W",
        "outputId": "1cfbeced-ad88-4b15-b459-7cd9c0c132b4"
      },
      "outputs": [
        {
          "output_type": "execute_result",
          "data": {
            "text/plain": [
              "<matplotlib.axes._subplots.AxesSubplot at 0x7fbe5e09cbd0>"
            ]
          },
          "metadata": {},
          "execution_count": 74
        },
        {
          "output_type": "display_data",
          "data": {
            "text/plain": [
              "<Figure size 720x720 with 1 Axes>"
            ],
            "image/png": "[encoded data removed]"
          },
          "metadata": {
            "needs_background": "light"
          }
        }
      ],
      "source": [
        "df_ano.plot.bar(figsize= (10,10))"
      ]
    },
    {
      "cell_type": "markdown",
      "metadata": {
        "id": "AiA7CdPFZ6-X"
      },
      "source": [
        "## 2. Há uma variação significativa na quantidade de emails enviados por cada período considerado na questão anterior?"
      ]
    },
    {
      "cell_type": "markdown",
      "metadata": {
        "id": "1e1hdXCAZ6-Y"
      },
      "source": [
        "Existe. É visto que em setembro ocorreu um aumento no número de emails recebidos, pois me inscrevi no Microsoft Reactor, uma plataforma de eventos online.\n",
        "\n",
        "Na análise anual, é visto que o número de emails recebidos aumenta a cada ano, visto que 2022 não se encerrou, recebi quase o dobro de emails em relação a 2021"
      ]
    },
    {
      "cell_type": "markdown",
      "metadata": {
        "id": "KFMiVEI_Z6-Z"
      },
      "source": [
        "## 3. Existe algum período, dos considerados nas duas questões anteriores, em que o número de emails enviados possa ser considerado um outlier? Você enxerga alguma justificativa para esse período ter esse outlier, caso haja?"
      ]
    },
    {
      "cell_type": "markdown",
      "metadata": {
        "id": "Aqt6ad1JZ6-a"
      },
      "source": [
        "Sim, pois estou usando cada vez mais esse novo email, trazendo novos remetentes.\n",
        "\n",
        "O mês de agosto (8) não aparece no gráfico, certamente por conta do recesso acadêmico que houve na época, a fins informativos, utilizei o email acadêmico para análise pois meu drive pessoal está muito cheio, impossibilitando de upar os dados do meu email para lá para o próprio drive, que seria usado pelo google COLAB."
      ]
    },
    {
      "cell_type": "markdown",
      "metadata": {
        "id": "DbtU3HgRZ6-c"
      },
      "source": [
        "## 4. Qual é o número médio de e-mails por hora? Essa média varia ao longo da semana?"
      ]
    },
    {
      "cell_type": "code",
      "execution_count": null,
      "metadata": {
        "colab": {
          "base_uri": "https://localhost:8080/",
          "height": 611
        },
        "id": "Oj_7M8mcZ6-e",
        "outputId": "bafddce8-e8c6-4e53-e857-80544583e3f3"
      },
      "outputs": [
        {
          "output_type": "execute_result",
          "data": {
            "text/plain": [
              "<matplotlib.axes._subplots.AxesSubplot at 0x7fbe5dd84690>"
            ]
          },
          "metadata": {},
          "execution_count": 112
        },
        {
          "output_type": "display_data",
          "data": {
            "text/plain": [
              "<Figure size 720x720 with 1 Axes>"
            ],
            "image/png": "[encoded data removed]"
          },
          "metadata": {
            "needs_background": "light"
          }
        }
      ],
      "source": [
        "emails_hora = df_horas['timeofday'].value_counts().sort_index(ascending=True)\n",
        "emails_hora.plot.bar(figsize= (10,10))"
      ]
    },
    {
      "cell_type": "markdown",
      "metadata": {
        "id": "dL7lPG4XZ6-f"
      },
      "source": [
        "Acima, podemos ver o gráfico de números de emails por hora. Percebemos que das 1:00 até as 10:00 o número de emails recebidos caem muito, aumentando a partir das 11:00. O número de emails recebidos não tem estabilidade, as 22:00 o número de emails recebidos chega a seu pico, totalizando mais de 200 emails recebidos por ano nesse horário.\n",
        "\n"
      ]
    },
    {
      "cell_type": "markdown",
      "metadata": {
        "id": "TtrH32auZ6-g"
      },
      "source": [
        "Lista com o número de emails recebidos em cada hora:"
      ]
    },
    {
      "cell_type": "code",
      "execution_count": null,
      "metadata": {
        "colab": {
          "base_uri": "https://localhost:8080/",
          "height": 802
        },
        "id": "fMU6L-E-Z6-h",
        "outputId": "247102ba-8a15-4c2d-840f-3f38c9025a44"
      },
      "outputs": [
        {
          "output_type": "execute_result",
          "data": {
            "text/plain": [
              "    Emails por hora\n",
              "0                64\n",
              "1                28\n",
              "2                35\n",
              "3                33\n",
              "4                14\n",
              "5                15\n",
              "6                11\n",
              "7                14\n",
              "8                24\n",
              "9                10\n",
              "10               22\n",
              "11               78\n",
              "12               44\n",
              "13              101\n",
              "14               83\n",
              "15               89\n",
              "16               95\n",
              "17               72\n",
              "18               77\n",
              "19              129\n",
              "20              110\n",
              "21               81\n",
              "22              201\n",
              "23               88"
            ],
            "text/html": [
              "\n",
              "  <div id=\"df-eb41c6c6-eb79-4e68-91e6-68beba438980\">\n",
              "    <div class=\"colab-df-container\">\n",
              "      <div>\n",
              "<style scoped>\n",
              "    .dataframe tbody tr th:only-of-type {\n",
              "        vertical-align: middle;\n",
              "    }\n",
              "\n",
              "    .dataframe tbody tr th {\n",
              "        vertical-align: top;\n",
              "    }\n",
              "\n",
              "    .dataframe thead th {\n",
              "        text-align: right;\n",
              "    }\n",
              "</style>\n",
              "<table border=\"1\" class=\"dataframe\">\n",
              "  <thead>\n",
              "    <tr style=\"text-align: right;\">\n",
              "      <th></th>\n",
              "      <th>Emails por hora</th>\n",
              "    </tr>\n",
              "  </thead>\n",
              "  <tbody>\n",
              "    <tr>\n",
              "      <th>0</th>\n",
              "      <td>64</td>\n",
              "    </tr>\n",
              "    <tr>\n",
              "      <th>1</th>\n",
              "      <td>28</td>\n",
              "    </tr>\n",
              "    <tr>\n",
              "      <th>2</th>\n",
              "      <td>35</td>\n",
              "    </tr>\n",
              "    <tr>\n",
              "      <th>3</th>\n",
              "      <td>33</td>\n",
              "    </tr>\n",
              "    <tr>\n",
              "      <th>4</th>\n",
              "      <td>14</td>\n",
              "    </tr>\n",
              "    <tr>\n",
              "      <th>5</th>\n",
              "      <td>15</td>\n",
              "    </tr>\n",
              "    <tr>\n",
              "      <th>6</th>\n",
              "      <td>11</td>\n",
              "    </tr>\n",
              "    <tr>\n",
              "      <th>7</th>\n",
              "      <td>14</td>\n",
              "    </tr>\n",
              "    <tr>\n",
              "      <th>8</th>\n",
              "      <td>24</td>\n",
              "    </tr>\n",
              "    <tr>\n",
              "      <th>9</th>\n",
              "      <td>10</td>\n",
              "    </tr>\n",
              "    <tr>\n",
              "      <th>10</th>\n",
              "      <td>22</td>\n",
              "    </tr>\n",
              "    <tr>\n",
              "      <th>11</th>\n",
              "      <td>78</td>\n",
              "    </tr>\n",
              "    <tr>\n",
              "      <th>12</th>\n",
              "      <td>44</td>\n",
              "    </tr>\n",
              "    <tr>\n",
              "      <th>13</th>\n",
              "      <td>101</td>\n",
              "    </tr>\n",
              "    <tr>\n",
              "      <th>14</th>\n",
              "      <td>83</td>\n",
              "    </tr>\n",
              "    <tr>\n",
              "      <th>15</th>\n",
              "      <td>89</td>\n",
              "    </tr>\n",
              "    <tr>\n",
              "      <th>16</th>\n",
              "      <td>95</td>\n",
              "    </tr>\n",
              "    <tr>\n",
              "      <th>17</th>\n",
              "      <td>72</td>\n",
              "    </tr>\n",
              "    <tr>\n",
              "      <th>18</th>\n",
              "      <td>77</td>\n",
              "    </tr>\n",
              "    <tr>\n",
              "      <th>19</th>\n",
              "      <td>129</td>\n",
              "    </tr>\n",
              "    <tr>\n",
              "      <th>20</th>\n",
              "      <td>110</td>\n",
              "    </tr>\n",
              "    <tr>\n",
              "      <th>21</th>\n",
              "      <td>81</td>\n",
              "    </tr>\n",
              "    <tr>\n",
              "      <th>22</th>\n",
              "      <td>201</td>\n",
              "    </tr>\n",
              "    <tr>\n",
              "      <th>23</th>\n",
              "      <td>88</td>\n",
              "    </tr>\n",
              "  </tbody>\n",
              "</table>\n",
              "</div>\n",
              "      <button class=\"colab-df-convert\" onclick=\"convertToInteractive('df-eb41c6c6-eb79-4e68-91e6-68beba438980')\"\n",
              "              title=\"Convert this dataframe to an interactive table.\"\n",
              "              style=\"display:none;\">\n",
              "        \n",
              "  <svg xmlns=\"http://www.w3.org/2000/svg\" height=\"24px\"viewBox=\"0 0 24 24\"\n",
              "       width=\"24px\">\n",
              "    <path d=\"M0 0h24v24H0V0z\" fill=\"none\"/>\n",
              "    <path d=\"M18.56 5.44l.94 2.06.94-2.06 2.06-.94-2.06-.94-.94-2.06-.94 2.06-2.06.94zm-11 1L8.5 8.5l.94-2.06 2.06-.94-2.06-.94L8.5 2.5l-.94 2.06-2.06.94zm10 10l.94 2.06.94-2.06 2.06-.94-2.06-.94-.94-2.06-.94 2.06-2.06.94z\"/><path d=\"M17.41 7.96l-1.37-1.37c-.4-.4-.92-.59-1.43-.59-.52 0-1.04.2-1.43.59L10.3 9.45l-7.72 7.72c-.78.78-.78 2.05 0 2.83L4 21.41c.39.39.9.59 1.41.59.51 0 1.02-.2 1.41-.59l7.78-7.78 2.81-2.81c.8-.78.8-2.07 0-2.86zM5.41 20L4 18.59l7.72-7.72 1.47 1.35L5.41 20z\"/>\n",
              "  </svg>\n",
              "      </button>\n",
              "      \n",
              "  <style>\n",
              "    .colab-df-container {\n",
              "      display:flex;\n",
              "      flex-wrap:wrap;\n",
              "      gap: 12px;\n",
              "    }\n",
              "\n",
              "    .colab-df-convert {\n",
              "      background-color: #E8F0FE;\n",
              "      border: none;\n",
              "      border-radius: 50%;\n",
              "      cursor: pointer;\n",
              "      display: none;\n",
              "      fill: #1967D2;\n",
              "      height: 32px;\n",
              "      padding: 0 0 0 0;\n",
              "      width: 32px;\n",
              "    }\n",
              "\n",
              "    .colab-df-convert:hover {\n",
              "      background-color: #E2EBFA;\n",
              "      box-shadow: 0px 1px 2px rgba(60, 64, 67, 0.3), 0px 1px 3px 1px rgba(60, 64, 67, 0.15);\n",
              "      fill: #174EA6;\n",
              "    }\n",
              "\n",
              "    [theme=dark] .colab-df-convert {\n",
              "      background-color: #3B4455;\n",
              "      fill: #D2E3FC;\n",
              "    }\n",
              "\n",
              "    [theme=dark] .colab-df-convert:hover {\n",
              "      background-color: #434B5C;\n",
              "      box-shadow: 0px 1px 3px 1px rgba(0, 0, 0, 0.15);\n",
              "      filter: drop-shadow(0px 1px 2px rgba(0, 0, 0, 0.3));\n",
              "      fill: #FFFFFF;\n",
              "    }\n",
              "  </style>\n",
              "\n",
              "      <script>\n",
              "        const buttonEl =\n",
              "          document.querySelector('#df-eb41c6c6-eb79-4e68-91e6-68beba438980 button.colab-df-convert');\n",
              "        buttonEl.style.display =\n",
              "          google.colab.kernel.accessAllowed ? 'block' : 'none';\n",
              "\n",
              "        async function convertToInteractive(key) {\n",
              "          const element = document.querySelector('#df-eb41c6c6-eb79-4e68-91e6-68beba438980');\n",
              "          const dataTable =\n",
              "            await google.colab.kernel.invokeFunction('convertToInteractive',\n",
              "                                                     [key], {});\n",
              "          if (!dataTable) return;\n",
              "\n",
              "          const docLinkHtml = 'Like what you see? Visit the ' +\n",
              "            '<a target=\"_blank\" href=https://colab.research.google.com/notebooks/data_table.ipynb>data table notebook</a>'\n",
              "            + ' to learn more about interactive tables.';\n",
              "          element.innerHTML = '';\n",
              "          dataTable['output_type'] = 'display_data';\n",
              "          await google.colab.output.renderOutput(dataTable, element);\n",
              "          const docLink = document.createElement('div');\n",
              "          docLink.innerHTML = docLinkHtml;\n",
              "          element.appendChild(docLink);\n",
              "        }\n",
              "      </script>\n",
              "    </div>\n",
              "  </div>\n",
              "  "
            ]
          },
          "metadata": {},
          "execution_count": 76
        }
      ],
      "source": [
        "dados = {'Emails por hora': emails_hora}\n",
        "emails_hora = pd.DataFrame(dados)\n",
        "emails_hora"
      ]
    },
    {
      "cell_type": "markdown",
      "metadata": {
        "id": "ay6UJcbUZ6-k"
      },
      "source": [
        "Média de emails recebidos por dia e por hora:"
      ]
    },
    {
      "cell_type": "code",
      "execution_count": null,
      "metadata": {
        "colab": {
          "base_uri": "https://localhost:8080/"
        },
        "id": "s44Z2fgdZ6-m",
        "outputId": "4bd82e15-e5ce-4d4f-dec2-46c8f7686f06"
      },
      "outputs": [
        {
          "output_type": "execute_result",
          "data": {
            "text/plain": [
              "Emails por hora    4.158904\n",
              "dtype: float64"
            ]
          },
          "metadata": {},
          "execution_count": 77
        }
      ],
      "source": [
        "total_dia = emails_hora.sum()/365\n",
        "total_dia"
      ]
    },
    {
      "cell_type": "markdown",
      "metadata": {
        "id": "hU3K1ltkZ6-o"
      },
      "source": [
        "No ano de 2022, recebemos cerca de 5 emails por dia, aproximadamente"
      ]
    },
    {
      "cell_type": "code",
      "execution_count": null,
      "metadata": {
        "colab": {
          "base_uri": "https://localhost:8080/"
        },
        "id": "s7tuk7GPZ6-p",
        "outputId": "595c64b1-39eb-45c4-a200-e20ccfba4720"
      },
      "outputs": [
        {
          "output_type": "execute_result",
          "data": {
            "text/plain": [
              "Emails por hora    0.173288\n",
              "dtype: float64"
            ]
          },
          "metadata": {},
          "execution_count": 78
        }
      ],
      "source": [
        "total_dia/24"
      ]
    },
    {
      "cell_type": "markdown",
      "metadata": {
        "id": "653dyLBLZ6-q"
      },
      "source": [
        "Em um dia no ano de 2022, recebemos em média cerca de 0.20 emails por hora. (1 email a cada 5 horas, aproximadamente)"
      ]
    },
    {
      "cell_type": "code",
      "execution_count": null,
      "metadata": {
        "colab": {
          "base_uri": "https://localhost:8080/",
          "height": 656
        },
        "id": "7lKOGYYJZ6-r",
        "outputId": "7d51eb23-b80f-4503-e45b-954d740d2514"
      },
      "outputs": [
        {
          "output_type": "execute_result",
          "data": {
            "text/plain": [
              "<matplotlib.axes._subplots.AxesSubplot at 0x7fbe5dc73710>"
            ]
          },
          "metadata": {},
          "execution_count": 79
        },
        {
          "output_type": "display_data",
          "data": {
            "text/plain": [
              "<Figure size 720x720 with 1 Axes>"
            ],
            "image/png": "[encoded data removed]"
          },
          "metadata": {
            "needs_background": "light"
          }
        }
      ],
      "source": [
        "dias_semana = df_horas['dayofweek'].value_counts().sort_index(ascending=True).plot.bar(figsize= (10,10))\n",
        "dias_semana"
      ]
    },
    {
      "cell_type": "markdown",
      "metadata": {
        "id": "hKCtsjryZ6-t"
      },
      "source": [
        "Pelo gráfico, percebemos uma variação na média diária. O número de emails diminui no decorrer da semana comercial que começa na segunda - feira, que é o dia com o maior número de emails recebidos, na quinta - feira há um aumento fora da curva, posteriormente o número diminui drasticamente no final de semana."
      ]
    },
    {
      "cell_type": "markdown",
      "metadata": {
        "id": "O7kEfFJDZ6-u"
      },
      "source": [
        "## 5. Com quem me comunico com mais frequência, por meio de emails? Considere tanto por envio, quanto por recepção de emails;"
      ]
    },
    {
      "cell_type": "code",
      "execution_count": null,
      "metadata": {
        "colab": {
          "base_uri": "https://localhost:8080/"
        },
        "id": "k-0qqClqZ6-v",
        "outputId": "a85b5671-92fb-42ad-f73c-85f468635d1e"
      },
      "outputs": [
        {
          "output_type": "execute_result",
          "data": {
            "text/plain": [
              "jobalerts-noreply@linkedin.com            296\n",
              "info@email.meetup.com                     187\n",
              "team@datacamp.com                         153\n",
              "no-reply+e0ef386d@classroom.google.com    105\n",
              "nao-responder@email.ifpb.edu.br            98\n",
              "no-reply+5123562e@classroom.google.com     72\n",
              "no-reply+65a1defa@classroom.google.com     69\n",
              "no-reply@classroom.google.com              67\n",
              "no-reply+98d363cc@classroom.google.com     64\n",
              "no-reply+bece8ff9@classroom.google.com     58\n",
              "Name: from, dtype: int64"
            ]
          },
          "metadata": {},
          "execution_count": 81
        }
      ],
      "source": [
        "df['from'].value_counts().head(10)"
      ]
    },
    {
      "cell_type": "markdown",
      "metadata": {
        "id": "uYr1C7lGZ6-1"
      },
      "source": [
        "Notificações automáticas do Linkedin e MicroSoft Reactor lideram a lista."
      ]
    },
    {
      "cell_type": "markdown",
      "metadata": {
        "id": "MCGMnH6XZ6-3"
      },
      "source": [
        "## 6. Quais os temas mais comumente tratados nos emails considerados? (para esse caso, considere usar uma nuvem de palavras como gráfico; para saber mais, veja esse tutorial da Sigmoidal, um tutorial do Datacamp e o Python Graph Gallery);"
      ]
    },
    {
      "cell_type": "code",
      "execution_count": null,
      "metadata": {
        "id": "e0nBzazoZ6-7"
      },
      "outputs": [],
      "source": [
        "import matplotlib.pyplot as plt\n",
        "from PIL import Image\n",
        "from wordcloud import WordCloud, STOPWORDS, ImageColorGenerator"
      ]
    },
    {
      "cell_type": "code",
      "execution_count": null,
      "metadata": {
        "colab": {
          "base_uri": "https://localhost:8080/",
          "height": 310
        },
        "id": "4c50f10_Z6-8",
        "outputId": "10f72b8d-eba5-4dc4-ffc8-b8ef288b0167"
      },
      "outputs": [
        {
          "output_type": "display_data",
          "data": {
            "text/plain": [
              "<Figure size 720x432 with 1 Axes>"
            ],
            "image/png": "[encoded data removed]"
          },
          "metadata": {
            "needs_background": "light"
          }
        }
      ],
      "source": [
        "def nuvem_imagem(df):\n",
        "    summary = df.dropna(subset=['subject'], axis=0)['subject']\n",
        "\n",
        "    all_summary = \" \".join(s for s in summary)\n",
        "\n",
        "    stopwords = set(STOPWORDS)\n",
        "\n",
        "    # Adicionei algumas palavras que atrapalhavam a exibição da nuvem, deixando apenas os assuntos aparecerem.\n",
        "    stopwords.update([\"da\", \"meu\", \"em\", \"você\", \"de\", \"ao\", \"os\",\"um\",\"uma\",\"enviar\",\"vídeo\",\"enviou\",\"Mensagem\",\"Direta\",\"acabou\",\"está\"])\n",
        "\n",
        "    # gerar uma wordcloud\n",
        "    wordcloud = WordCloud(stopwords=stopwords,\n",
        "                      background_color=\"black\",\n",
        "                      width=1600, height=800).generate(all_summary)\n",
        "\n",
        "    # mostrar a imagem final\n",
        "    fig, ax = plt.subplots(figsize=(10,6))\n",
        "    ax.imshow(wordcloud, interpolation='bilinear')\n",
        "    ax.set_axis_off()\n",
        "\n",
        "    plt.imshow(wordcloud);\n",
        "    wordcloud.to_file(\"wordcloud.png\")\n",
        "    \n",
        "nuvem_imagem(df)"
      ]
    },
    {
      "cell_type": "markdown",
      "metadata": {
        "id": "cMvbtiSKZ6--"
      },
      "source": [
        "Nessa imagem, podemos ver os temas que mais aparecem no meu email desde o ano de 2022. Temos a ocorrencia de termos como: \"UTF Q\" e \"UTF B\", provavelmente pelo fato de alguns remetentes enviarem emojis nos títulos dos emails, em seguida temos a frase \"Vagas Novas\" do Linkedin"
      ]
    },
    {
      "cell_type": "markdown",
      "metadata": {
        "id": "cA3LTRMpZ6-_"
      },
      "source": [
        "## 7. Crie e responda mais duas perguntas relacionadas aos dados obtidos. Seja criativo!"
      ]
    },
    {
      "cell_type": "markdown",
      "metadata": {
        "id": "-8_xOYeGZ6_B"
      },
      "source": [
        "### Pergunta 1: Quantos emails automáticos o AVA/Moodle me enviou por ano?"
      ]
    },
    {
      "cell_type": "code",
      "execution_count": null,
      "metadata": {
        "id": "7KsdKHk2Z6_B"
      },
      "outputs": [],
      "source": [
        "# Criando dataframe apenas com os emails do AVA\n",
        "df_linke = df.loc[df['from'] == 'nao-responder@email.ifpb.edu.br']"
      ]
    },
    {
      "cell_type": "code",
      "execution_count": null,
      "metadata": {
        "colab": {
          "base_uri": "https://localhost:8080/",
          "height": 112
        },
        "id": "UJbKpJzfZ6_C",
        "outputId": "97b8035e-3cd4-44a1-c8d7-d3deceba0aa5"
      },
      "outputs": [
        {
          "output_type": "execute_result",
          "data": {
            "text/plain": [
              "      Emails por ano\n",
              "2021              29\n",
              "2022              69"
            ],
            "text/html": [
              "\n",
              "  <div id=\"df-712f799a-ce06-470f-82c2-7363220575fa\">\n",
              "    <div class=\"colab-df-container\">\n",
              "      <div>\n",
              "<style scoped>\n",
              "    .dataframe tbody tr th:only-of-type {\n",
              "        vertical-align: middle;\n",
              "    }\n",
              "\n",
              "    .dataframe tbody tr th {\n",
              "        vertical-align: top;\n",
              "    }\n",
              "\n",
              "    .dataframe thead th {\n",
              "        text-align: right;\n",
              "    }\n",
              "</style>\n",
              "<table border=\"1\" class=\"dataframe\">\n",
              "  <thead>\n",
              "    <tr style=\"text-align: right;\">\n",
              "      <th></th>\n",
              "      <th>Emails por ano</th>\n",
              "    </tr>\n",
              "  </thead>\n",
              "  <tbody>\n",
              "    <tr>\n",
              "      <th>2021</th>\n",
              "      <td>29</td>\n",
              "    </tr>\n",
              "    <tr>\n",
              "      <th>2022</th>\n",
              "      <td>69</td>\n",
              "    </tr>\n",
              "  </tbody>\n",
              "</table>\n",
              "</div>\n",
              "      <button class=\"colab-df-convert\" onclick=\"convertToInteractive('df-712f799a-ce06-470f-82c2-7363220575fa')\"\n",
              "              title=\"Convert this dataframe to an interactive table.\"\n",
              "              style=\"display:none;\">\n",
              "        \n",
              "  <svg xmlns=\"http://www.w3.org/2000/svg\" height=\"24px\"viewBox=\"0 0 24 24\"\n",
              "       width=\"24px\">\n",
              "    <path d=\"M0 0h24v24H0V0z\" fill=\"none\"/>\n",
              "    <path d=\"M18.56 5.44l.94 2.06.94-2.06 2.06-.94-2.06-.94-.94-2.06-.94 2.06-2.06.94zm-11 1L8.5 8.5l.94-2.06 2.06-.94-2.06-.94L8.5 2.5l-.94 2.06-2.06.94zm10 10l.94 2.06.94-2.06 2.06-.94-2.06-.94-.94-2.06-.94 2.06-2.06.94z\"/><path d=\"M17.41 7.96l-1.37-1.37c-.4-.4-.92-.59-1.43-.59-.52 0-1.04.2-1.43.59L10.3 9.45l-7.72 7.72c-.78.78-.78 2.05 0 2.83L4 21.41c.39.39.9.59 1.41.59.51 0 1.02-.2 1.41-.59l7.78-7.78 2.81-2.81c.8-.78.8-2.07 0-2.86zM5.41 20L4 18.59l7.72-7.72 1.47 1.35L5.41 20z\"/>\n",
              "  </svg>\n",
              "      </button>\n",
              "      \n",
              "  <style>\n",
              "    .colab-df-container {\n",
              "      display:flex;\n",
              "      flex-wrap:wrap;\n",
              "      gap: 12px;\n",
              "    }\n",
              "\n",
              "    .colab-df-convert {\n",
              "      background-color: #E8F0FE;\n",
              "      border: none;\n",
              "      border-radius: 50%;\n",
              "      cursor: pointer;\n",
              "      display: none;\n",
              "      fill: #1967D2;\n",
              "      height: 32px;\n",
              "      padding: 0 0 0 0;\n",
              "      width: 32px;\n",
              "    }\n",
              "\n",
              "    .colab-df-convert:hover {\n",
              "      background-color: #E2EBFA;\n",
              "      box-shadow: 0px 1px 2px rgba(60, 64, 67, 0.3), 0px 1px 3px 1px rgba(60, 64, 67, 0.15);\n",
              "      fill: #174EA6;\n",
              "    }\n",
              "\n",
              "    [theme=dark] .colab-df-convert {\n",
              "      background-color: #3B4455;\n",
              "      fill: #D2E3FC;\n",
              "    }\n",
              "\n",
              "    [theme=dark] .colab-df-convert:hover {\n",
              "      background-color: #434B5C;\n",
              "      box-shadow: 0px 1px 3px 1px rgba(0, 0, 0, 0.15);\n",
              "      filter: drop-shadow(0px 1px 2px rgba(0, 0, 0, 0.3));\n",
              "      fill: #FFFFFF;\n",
              "    }\n",
              "  </style>\n",
              "\n",
              "      <script>\n",
              "        const buttonEl =\n",
              "          document.querySelector('#df-712f799a-ce06-470f-82c2-7363220575fa button.colab-df-convert');\n",
              "        buttonEl.style.display =\n",
              "          google.colab.kernel.accessAllowed ? 'block' : 'none';\n",
              "\n",
              "        async function convertToInteractive(key) {\n",
              "          const element = document.querySelector('#df-712f799a-ce06-470f-82c2-7363220575fa');\n",
              "          const dataTable =\n",
              "            await google.colab.kernel.invokeFunction('convertToInteractive',\n",
              "                                                     [key], {});\n",
              "          if (!dataTable) return;\n",
              "\n",
              "          const docLinkHtml = 'Like what you see? Visit the ' +\n",
              "            '<a target=\"_blank\" href=https://colab.research.google.com/notebooks/data_table.ipynb>data table notebook</a>'\n",
              "            + ' to learn more about interactive tables.';\n",
              "          element.innerHTML = '';\n",
              "          dataTable['output_type'] = 'display_data';\n",
              "          await google.colab.output.renderOutput(dataTable, element);\n",
              "          const docLink = document.createElement('div');\n",
              "          docLink.innerHTML = docLinkHtml;\n",
              "          element.appendChild(docLink);\n",
              "        }\n",
              "      </script>\n",
              "    </div>\n",
              "  </div>\n",
              "  "
            ]
          },
          "metadata": {},
          "execution_count": 105
        }
      ],
      "source": [
        "#Criando dataframe apenas com a contagem de emails enviados pelo AVA.\n",
        "df_linke = df_linke['data_contraria'].dt.year.value_counts().sort_index(ascending=True)\n",
        "dados = {'Emails por ano':df_linke}\n",
        "df_linke = pd.DataFrame(dados)\n",
        "df_linke"
      ]
    },
    {
      "cell_type": "code",
      "execution_count": null,
      "metadata": {
        "colab": {
          "base_uri": "https://localhost:8080/",
          "height": 624
        },
        "id": "fAHt1J2hZ6_G",
        "outputId": "ebe647db-d1cc-4158-b287-588ec396c138"
      },
      "outputs": [
        {
          "output_type": "execute_result",
          "data": {
            "text/plain": [
              "<matplotlib.axes._subplots.AxesSubplot at 0x7fbe5b890c90>"
            ]
          },
          "metadata": {},
          "execution_count": 94
        },
        {
          "output_type": "display_data",
          "data": {
            "text/plain": [
              "<Figure size 720x720 with 1 Axes>"
            ],
            "image/png": "[encoded data removed]"
          },
          "metadata": {
            "needs_background": "light"
          }
        }
      ],
      "source": [
        "df_linke.plot.bar(figsize= (10,10))"
      ]
    },
    {
      "cell_type": "markdown",
      "metadata": {
        "id": "wKWDEOEqZ6_J"
      },
      "source": [
        "### Pergunta 2: Quais foram os assuntos principais do seu email no ano de 2021?"
      ]
    },
    {
      "cell_type": "code",
      "execution_count": null,
      "metadata": {
        "colab": {
          "base_uri": "https://localhost:8080/"
        },
        "id": "uaWvC7D8Z6_L",
        "outputId": "a7733688-c269-4deb-f25f-a91194c81d35"
      },
      "outputs": [
        {
          "output_type": "execute_result",
          "data": {
            "text/plain": [
              "no-reply+98d363cc@classroom.google.com    64\n",
              "team@datacamp.com                         64\n",
              "no-reply+2eb1e244@classroom.google.com    57\n",
              "no-reply+e0ef386d@classroom.google.com    51\n",
              "no-reply+bece8ff9@classroom.google.com    44\n",
              "no-reply+39a77bff@classroom.google.com    44\n",
              "no-reply+8fb7d242@classroom.google.com    37\n",
              "no-reply+fabfbb7a@classroom.google.com    34\n",
              "no-reply+5123562e@classroom.google.com    32\n",
              "nao-responder@email.ifpb.edu.br           29\n",
              "Name: from, dtype: int64"
            ]
          },
          "metadata": {},
          "execution_count": 106
        }
      ],
      "source": [
        "df_2021 = df.loc[df['year'] == 2021]\n",
        "df_2021['from'].value_counts().head(10)"
      ]
    },
    {
      "cell_type": "markdown",
      "metadata": {
        "id": "Be9knIvvZ6_M"
      },
      "source": [
        "As notificações automáticas do Classroom estão de longe em primeiro lugar"
      ]
    }
  ],
  "metadata": {
    "kernelspec": {
      "display_name": "Python 3",
      "language": "python",
      "name": "python3"
    },
    "language_info": {
      "codemirror_mode": {
        "name": "ipython",
        "version": 3
      },
      "file_extension": ".py",
      "mimetype": "text/x-python",
      "name": "python",
      "nbconvert_exporter": "python",
      "pygments_lexer": "ipython3",
      "version": "3.7.0"
    },
    "colab": {
      "provenance": [],
      "include_colab_link": true
    }
  },
  "nbformat": 4,
  "nbformat_minor": 0
}
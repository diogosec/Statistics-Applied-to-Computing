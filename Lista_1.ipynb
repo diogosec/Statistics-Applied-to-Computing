{
  "cells": [
    {
      "cell_type": "markdown",
      "metadata": {
        "id": "view-in-github",
        "colab_type": "text"
      },
      "source": [
        "<a href=\"https://colab.research.google.com/github/diogosec/Statistics-Applied-to-Computing/blob/main/Lista_1.ipynb\" target=\"_parent\"><img src=\"https://colab.research.google.com/assets/colab-badge.svg\" alt=\"Open In Colab\"/></a>"
      ]
    },
    {
      "cell_type": "markdown",
      "source": [
        "# Questão 1 "
      ],
      "metadata": {
        "id": "pGyh_xq0UhZU"
      }
    },
    {
      "cell_type": "markdown",
      "source": [
        "(a) Alturas de balões de ar quente;\tQuantitativa, pois foca nos valores das alturas.\n",
        "\n",
        "(b) Capacidades de carga de caminhonetes;\tQuantitativa, pois foca nos valores das capacidades.\n",
        "\n",
        "(c) Cores dos olhos de modelos;\tQualitativa, pois categoriza as modelos pela cor dos olhos.\n",
        "\n",
        "(d) Números de identidade de estudantes;\tQualitativa, pois busca identificar os estudantes através de uma sequência numérica única.\n",
        "\n",
        "(e) Respostas em uma pesquisa de opinião.\tQualitativa, pois busca extrair vários dados com base no que foi respondido.\n"
      ],
      "metadata": {
        "id": "GND33CY9UtKZ"
      }
    },
    {
      "cell_type": "markdown",
      "source": [
        "# Questão 2"
      ],
      "metadata": {
        "id": "YCMcxVKLW57f"
      }
    },
    {
      "cell_type": "markdown",
      "source": [
        "# (a)\n",
        "Sexo: Qualitativa Nominal\t\t\t\t\t\t\t\t\t\n",
        "Predileta: Qualitativa Nominal\t\t\t\t\t\t\t\t   \n",
        "Nota: Quantitativa Discreta"
      ],
      "metadata": {
        "id": "4MmxLeh-VZY1"
      }
    },
    {
      "cell_type": "markdown",
      "source": [
        "#(b)\n",
        " ![Tabela lista 1 estatística.PNG](data:image/png;base64,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)"
      ],
      "metadata": {
        "id": "5dhaARwLV_9_"
      }
    },
    {
      "cell_type": "markdown",
      "source": [
        "# Questão 3"
      ],
      "metadata": {
        "id": "i1uoTIYwXgoa"
      }
    },
    {
      "cell_type": "code",
      "source": [
        "import pandas as pd"
      ],
      "metadata": {
        "id": "FoRwDt2yX6jr"
      },
      "execution_count": null,
      "outputs": []
    },
    {
      "cell_type": "code",
      "source": [
        "import numpy as np\n"
      ],
      "metadata": {
        "id": "9TUvM6xrX7Yq"
      },
      "execution_count": null,
      "outputs": []
    },
    {
      "cell_type": "code",
      "source": [
        "import matplotlib.pyplot as plt"
      ],
      "metadata": {
        "id": "OrP-5Q5pZ4Xf"
      },
      "execution_count": null,
      "outputs": []
    },
    {
      "cell_type": "code",
      "source": [
        "NotasAl = pd.read_csv('/content/drive/MyDrive/Colab Notebooks/arquivos/dadoss/dados1.csv')"
      ],
      "metadata": {
        "id": "5VXjt2I_X-eY"
      },
      "execution_count": null,
      "outputs": []
    },
    {
      "cell_type": "code",
      "source": [
        "NotasAl.Notas.hist(bins = 35)"
      ],
      "metadata": {
        "colab": {
          "base_uri": "https://localhost:8080/",
          "height": 282
        },
        "id": "TQWV07kxYGLv",
        "outputId": "5e610183-a161-47c1-fdb2-e693c7924d24"
      },
      "execution_count": null,
      "outputs": [
        {
          "output_type": "execute_result",
          "data": {
            "text/plain": [
              "<matplotlib.axes._subplots.AxesSubplot at 0x7f49cd256d10>"
            ]
          },
          "metadata": {},
          "execution_count": 133
        },
        {
          "output_type": "display_data",
          "data": {
            "text/plain": [
              "<Figure size 432x288 with 1 Axes>"
            ],
            "image/png": "[encoded data removed]"
          },
          "metadata": {
            "needs_background": "light"
          }
        }
      ]
    },
    {
      "cell_type": "markdown",
      "source": [
        "# Questão 4"
      ],
      "metadata": {
        "id": "hNzs-PyTXqIT"
      }
    },
    {
      "cell_type": "markdown",
      "source": [
        "# (a)\n",
        "Bairro: Qualitativa Nominal\n",
        "\n",
        "Tipo: Qualitativa Nominal\n",
        "\n",
        "Número De Quartos: Quantitativa Discreta\n",
        "\n",
        "Preço: Quantitativa Discreta\n"
      ],
      "metadata": {
        "id": "yITsfIk_Y0fC"
      }
    },
    {
      "cell_type": "code",
      "source": [
        "Casas = pd.read_csv('/content/drive/MyDrive/Colab Notebooks/arquivos/dadoss/dados2.csv')"
      ],
      "metadata": {
        "id": "UgmagUeQYs8j"
      },
      "execution_count": null,
      "outputs": []
    },
    {
      "cell_type": "code",
      "source": [
        "Casas"
      ],
      "metadata": {
        "colab": {
          "base_uri": "https://localhost:8080/",
          "height": 896
        },
        "id": "KaepXB5YVpR8",
        "outputId": "26d11b92-7a6e-4482-c4f2-eb652aea6341"
      },
      "execution_count": null,
      "outputs": [
        {
          "output_type": "execute_result",
          "data": {
            "text/plain": [
              "   Bairro;Tipo;N de quartos;Preço (mil)\n",
              "0                     Barra;Apto.;2;165\n",
              "1                     Barra;Apto.;3;240\n",
              "2                     Barra;Cobt.;3;158\n",
              "3                       Barra;Sala;0;90\n",
              "4                  Botafogo;Apto.;2;270\n",
              "5                    Catete;Apto.;1;250\n",
              "6                     Centro;Sala;1;110\n",
              "7                Copacabana;Apto.;2;210\n",
              "8                Copacabana;Apto.;2;200\n",
              "9                Copacabana;Apto.;3;280\n",
              "10               Flamengo;Apto.;>=4;330\n",
              "11                 Flamengo;Cobt.;1;180\n",
              "12                    Gávea;Apto.;3;290\n",
              "13            Jacarepaguá;Apto.;>=4;320\n",
              "14                  Ipanema;Apto.;3;276\n",
              "15                    Lagoa;Apto.;3;254\n",
              "16              Laranjeiras;Apto.;2;220\n",
              "17              Laranjeiras;Apto.;2;219\n",
              "18                 Leblon;Apto.;>=4;340\n",
              "19                   Leblon;Apto.;3;260\n",
              "20               Maracanã;Apto.;>=4;338\n",
              "21                  Recreio;Cobt.;3;290\n",
              "22             São Conrado;Casa;>=4;430\n",
              "23                   Tijuca;Apto.;2;200\n",
              "24                   Tijuca;Apto.;2;210\n",
              "25                  Tijuca;Casa;>=4;370\n",
              "26              Vila Isabel;Apto.;2;230"
            ],
            "text/html": [
              "\n",
              "  <div id=\"df-ccba2c23-9127-4967-9e88-05072099a1b0\">\n",
              "    <div class=\"colab-df-container\">\n",
              "      <div>\n",
              "<style scoped>\n",
              "    .dataframe tbody tr th:only-of-type {\n",
              "        vertical-align: middle;\n",
              "    }\n",
              "\n",
              "    .dataframe tbody tr th {\n",
              "        vertical-align: top;\n",
              "    }\n",
              "\n",
              "    .dataframe thead th {\n",
              "        text-align: right;\n",
              "    }\n",
              "</style>\n",
              "<table border=\"1\" class=\"dataframe\">\n",
              "  <thead>\n",
              "    <tr style=\"text-align: right;\">\n",
              "      <th></th>\n",
              "      <th>Bairro;Tipo;N de quartos;Preço (mil)</th>\n",
              "    </tr>\n",
              "  </thead>\n",
              "  <tbody>\n",
              "    <tr>\n",
              "      <th>0</th>\n",
              "      <td>Barra;Apto.;2;165</td>\n",
              "    </tr>\n",
              "    <tr>\n",
              "      <th>1</th>\n",
              "      <td>Barra;Apto.;3;240</td>\n",
              "    </tr>\n",
              "    <tr>\n",
              "      <th>2</th>\n",
              "      <td>Barra;Cobt.;3;158</td>\n",
              "    </tr>\n",
              "    <tr>\n",
              "      <th>3</th>\n",
              "      <td>Barra;Sala;0;90</td>\n",
              "    </tr>\n",
              "    <tr>\n",
              "      <th>4</th>\n",
              "      <td>Botafogo;Apto.;2;270</td>\n",
              "    </tr>\n",
              "    <tr>\n",
              "      <th>5</th>\n",
              "      <td>Catete;Apto.;1;250</td>\n",
              "    </tr>\n",
              "    <tr>\n",
              "      <th>6</th>\n",
              "      <td>Centro;Sala;1;110</td>\n",
              "    </tr>\n",
              "    <tr>\n",
              "      <th>7</th>\n",
              "      <td>Copacabana;Apto.;2;210</td>\n",
              "    </tr>\n",
              "    <tr>\n",
              "      <th>8</th>\n",
              "      <td>Copacabana;Apto.;2;200</td>\n",
              "    </tr>\n",
              "    <tr>\n",
              "      <th>9</th>\n",
              "      <td>Copacabana;Apto.;3;280</td>\n",
              "    </tr>\n",
              "    <tr>\n",
              "      <th>10</th>\n",
              "      <td>Flamengo;Apto.;&gt;=4;330</td>\n",
              "    </tr>\n",
              "    <tr>\n",
              "      <th>11</th>\n",
              "      <td>Flamengo;Cobt.;1;180</td>\n",
              "    </tr>\n",
              "    <tr>\n",
              "      <th>12</th>\n",
              "      <td>Gávea;Apto.;3;290</td>\n",
              "    </tr>\n",
              "    <tr>\n",
              "      <th>13</th>\n",
              "      <td>Jacarepaguá;Apto.;&gt;=4;320</td>\n",
              "    </tr>\n",
              "    <tr>\n",
              "      <th>14</th>\n",
              "      <td>Ipanema;Apto.;3;276</td>\n",
              "    </tr>\n",
              "    <tr>\n",
              "      <th>15</th>\n",
              "      <td>Lagoa;Apto.;3;254</td>\n",
              "    </tr>\n",
              "    <tr>\n",
              "      <th>16</th>\n",
              "      <td>Laranjeiras;Apto.;2;220</td>\n",
              "    </tr>\n",
              "    <tr>\n",
              "      <th>17</th>\n",
              "      <td>Laranjeiras;Apto.;2;219</td>\n",
              "    </tr>\n",
              "    <tr>\n",
              "      <th>18</th>\n",
              "      <td>Leblon;Apto.;&gt;=4;340</td>\n",
              "    </tr>\n",
              "    <tr>\n",
              "      <th>19</th>\n",
              "      <td>Leblon;Apto.;3;260</td>\n",
              "    </tr>\n",
              "    <tr>\n",
              "      <th>20</th>\n",
              "      <td>Maracanã;Apto.;&gt;=4;338</td>\n",
              "    </tr>\n",
              "    <tr>\n",
              "      <th>21</th>\n",
              "      <td>Recreio;Cobt.;3;290</td>\n",
              "    </tr>\n",
              "    <tr>\n",
              "      <th>22</th>\n",
              "      <td>São Conrado;Casa;&gt;=4;430</td>\n",
              "    </tr>\n",
              "    <tr>\n",
              "      <th>23</th>\n",
              "      <td>Tijuca;Apto.;2;200</td>\n",
              "    </tr>\n",
              "    <tr>\n",
              "      <th>24</th>\n",
              "      <td>Tijuca;Apto.;2;210</td>\n",
              "    </tr>\n",
              "    <tr>\n",
              "      <th>25</th>\n",
              "      <td>Tijuca;Casa;&gt;=4;370</td>\n",
              "    </tr>\n",
              "    <tr>\n",
              "      <th>26</th>\n",
              "      <td>Vila Isabel;Apto.;2;230</td>\n",
              "    </tr>\n",
              "  </tbody>\n",
              "</table>\n",
              "</div>\n",
              "      <button class=\"colab-df-convert\" onclick=\"convertToInteractive('df-ccba2c23-9127-4967-9e88-05072099a1b0')\"\n",
              "              title=\"Convert this dataframe to an interactive table.\"\n",
              "              style=\"display:none;\">\n",
              "        \n",
              "  <svg xmlns=\"http://www.w3.org/2000/svg\" height=\"24px\"viewBox=\"0 0 24 24\"\n",
              "       width=\"24px\">\n",
              "    <path d=\"M0 0h24v24H0V0z\" fill=\"none\"/>\n",
              "    <path d=\"M18.56 5.44l.94 2.06.94-2.06 2.06-.94-2.06-.94-.94-2.06-.94 2.06-2.06.94zm-11 1L8.5 8.5l.94-2.06 2.06-.94-2.06-.94L8.5 2.5l-.94 2.06-2.06.94zm10 10l.94 2.06.94-2.06 2.06-.94-2.06-.94-.94-2.06-.94 2.06-2.06.94z\"/><path d=\"M17.41 7.96l-1.37-1.37c-.4-.4-.92-.59-1.43-.59-.52 0-1.04.2-1.43.59L10.3 9.45l-7.72 7.72c-.78.78-.78 2.05 0 2.83L4 21.41c.39.39.9.59 1.41.59.51 0 1.02-.2 1.41-.59l7.78-7.78 2.81-2.81c.8-.78.8-2.07 0-2.86zM5.41 20L4 18.59l7.72-7.72 1.47 1.35L5.41 20z\"/>\n",
              "  </svg>\n",
              "      </button>\n",
              "      \n",
              "  <style>\n",
              "    .colab-df-container {\n",
              "      display:flex;\n",
              "      flex-wrap:wrap;\n",
              "      gap: 12px;\n",
              "    }\n",
              "\n",
              "    .colab-df-convert {\n",
              "      background-color: #E8F0FE;\n",
              "      border: none;\n",
              "      border-radius: 50%;\n",
              "      cursor: pointer;\n",
              "      display: none;\n",
              "      fill: #1967D2;\n",
              "      height: 32px;\n",
              "      padding: 0 0 0 0;\n",
              "      width: 32px;\n",
              "    }\n",
              "\n",
              "    .colab-df-convert:hover {\n",
              "      background-color: #E2EBFA;\n",
              "      box-shadow: 0px 1px 2px rgba(60, 64, 67, 0.3), 0px 1px 3px 1px rgba(60, 64, 67, 0.15);\n",
              "      fill: #174EA6;\n",
              "    }\n",
              "\n",
              "    [theme=dark] .colab-df-convert {\n",
              "      background-color: #3B4455;\n",
              "      fill: #D2E3FC;\n",
              "    }\n",
              "\n",
              "    [theme=dark] .colab-df-convert:hover {\n",
              "      background-color: #434B5C;\n",
              "      box-shadow: 0px 1px 3px 1px rgba(0, 0, 0, 0.15);\n",
              "      filter: drop-shadow(0px 1px 2px rgba(0, 0, 0, 0.3));\n",
              "      fill: #FFFFFF;\n",
              "    }\n",
              "  </style>\n",
              "\n",
              "      <script>\n",
              "        const buttonEl =\n",
              "          document.querySelector('#df-ccba2c23-9127-4967-9e88-05072099a1b0 button.colab-df-convert');\n",
              "        buttonEl.style.display =\n",
              "          google.colab.kernel.accessAllowed ? 'block' : 'none';\n",
              "\n",
              "        async function convertToInteractive(key) {\n",
              "          const element = document.querySelector('#df-ccba2c23-9127-4967-9e88-05072099a1b0');\n",
              "          const dataTable =\n",
              "            await google.colab.kernel.invokeFunction('convertToInteractive',\n",
              "                                                     [key], {});\n",
              "          if (!dataTable) return;\n",
              "\n",
              "          const docLinkHtml = 'Like what you see? Visit the ' +\n",
              "            '<a target=\"_blank\" href=https://colab.research.google.com/notebooks/data_table.ipynb>data table notebook</a>'\n",
              "            + ' to learn more about interactive tables.';\n",
              "          element.innerHTML = '';\n",
              "          dataTable['output_type'] = 'display_data';\n",
              "          await google.colab.output.renderOutput(dataTable, element);\n",
              "          const docLink = document.createElement('div');\n",
              "          docLink.innerHTML = docLinkHtml;\n",
              "          element.appendChild(docLink);\n",
              "        }\n",
              "      </script>\n",
              "    </div>\n",
              "  </div>\n",
              "  "
            ]
          },
          "metadata": {},
          "execution_count": 135
        }
      ]
    }
  ],
  "metadata": {
    "colab": {
      "provenance": [],
      "mount_file_id": "1ZFEhzROIZrJ9pHsTWNKtMH9-Ns5u8ykb",
      "authorship_tag": "ABX9TyN7N2VJ/ooB8cJrKy+a9s82",
      "include_colab_link": true
    },
    "kernelspec": {
      "display_name": "Python 3",
      "name": "python3"
    },
    "language_info": {
      "name": "python"
    }
  },
  "nbformat": 4,
  "nbformat_minor": 0
}